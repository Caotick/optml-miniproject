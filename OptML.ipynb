{
 "cells": [
  {
   "cell_type": "markdown",
   "id": "228c5ac3-cec5-4df3-bded-0be495be4e16",
   "metadata": {},
   "source": [
    "# Optimization for Machine Learning : Mini-project\n",
    "\n",
    "Arnaud Robert 287964, Aleandro Eccel 288431, Quentin Müller 289171"
   ]
  },
  {
   "cell_type": "markdown",
   "id": "017fb955-17df-4e61-abfc-5d82398d3191",
   "metadata": {},
   "source": [
    "## Problematic\n",
    "Local minima for deep learning: Can you find differences between the ‘shape’ of local minima that SGD finds, depending on different step-sizes or mini-batch size, vs full gradient descent, ADAGrad etc."
   ]
  },
  {
   "cell_type": "markdown",
   "id": "f279bbff-8302-4ce8-9caf-ff8df3299b02",
   "metadata": {},
   "source": [
    "## Shape of minimas\n",
    "\n",
    "There are different shape of minimas : sharp, flat and asymmetric. \n",
    "\n",
    "This paper might be interesting : https://papers.nips.cc/paper/2019/file/01d8bae291b1e4724443375634ccfa0e-Paper.pdf\n",
    "\n",
    "Datasets that we might use : https://www.gerad.ca/Sebastien.Le.Digabel/MTH8418/"
   ]
  },
  {
   "cell_type": "code",
   "execution_count": null,
   "id": "ee74e737-d815-4870-a2c6-a57081686c1a",
   "metadata": {},
   "outputs": [],
   "source": []
  }
 ],
 "metadata": {
  "kernelspec": {
   "display_name": "Python 3",
   "language": "python",
   "name": "python3"
  },
  "language_info": {
   "codemirror_mode": {
    "name": "ipython",
    "version": 3
   },
   "file_extension": ".py",
   "mimetype": "text/x-python",
   "name": "python",
   "nbconvert_exporter": "python",
   "pygments_lexer": "ipython3",
   "version": "3.9.4"
  }
 },
 "nbformat": 4,
 "nbformat_minor": 5
}
